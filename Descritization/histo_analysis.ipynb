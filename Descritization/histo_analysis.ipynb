{
 "cells": [
  {
   "cell_type": "code",
   "execution_count": 6,
   "metadata": {
    "colab": {},
    "colab_type": "code",
    "id": "wJByfojsMJie"
   },
   "outputs": [],
   "source": [
    "import numpy as np\n",
    "import matplotlib.pyplot as plt\n",
    "import pandas as pd"
   ]
  },
  {
   "cell_type": "code",
   "execution_count": 7,
   "metadata": {
    "colab": {},
    "colab_type": "code",
    "id": "VYp6F_FcMLVh"
   },
   "outputs": [],
   "source": [
    "data = pd.read_csv('../Clustering/iris.csv')"
   ]
  },
  {
   "cell_type": "code",
   "execution_count": 8,
   "metadata": {
    "colab": {},
    "colab_type": "code",
    "id": "qlCsz_f2Md2M"
   },
   "outputs": [],
   "source": [
    "data = data.iloc[:, [0,1,2,3]].values\n",
    "data = np.array(data)"
   ]
  },
  {
   "cell_type": "code",
   "execution_count": 9,
   "metadata": {
    "colab": {},
    "colab_type": "code",
    "id": "gXVjvqV8Q8mb"
   },
   "outputs": [],
   "source": [
    "attr1 = data[:,0]\n",
    "attr1.sort()\n",
    "data_size = 150\n",
    "bin_size = 3"
   ]
  },
  {
   "cell_type": "code",
   "execution_count": 10,
   "metadata": {},
   "outputs": [],
   "source": [
    "itvl = attr1.max()-attr1.min()\n",
    "itvl = round(itvl,2)\n",
    "itvl /= bin_size"
   ]
  },
  {
   "cell_type": "markdown",
   "metadata": {},
   "source": [
    "# Equal Width"
   ]
  },
  {
   "cell_type": "code",
   "execution_count": 62,
   "metadata": {
    "colab": {},
    "colab_type": "code",
    "id": "FsD66EcvRKGF"
   },
   "outputs": [],
   "source": [
    "discval = []"
   ]
  },
  {
   "cell_type": "code",
   "execution_count": 63,
   "metadata": {
    "colab": {},
    "colab_type": "code",
    "id": "RGV4zW0SR5Aj"
   },
   "outputs": [],
   "source": [
    "def descr_by_eq_width():\n",
    "    y = attr1.min()\n",
    "    s = 0\n",
    "    for i in range(bin_size):\n",
    "        a = []\n",
    "        y += itvl\n",
    "        while(attr1[s] <= y and s<150):\n",
    "            a.append(attr1[s])  \n",
    "            if(s>=149):\n",
    "                break\n",
    "            s+=1\n",
    "        discval.append(a)"
   ]
  },
  {
   "cell_type": "code",
   "execution_count": 64,
   "metadata": {},
   "outputs": [],
   "source": [
    "descr_by_eq_width()"
   ]
  },
  {
   "cell_type": "code",
   "execution_count": 74,
   "metadata": {},
   "outputs": [],
   "source": [
    "c = [len(discval[0]),len(discval[1]),len(discval[2])]"
   ]
  },
  {
   "cell_type": "code",
   "execution_count": 76,
   "metadata": {},
   "outputs": [
    {
     "data": {
      "text/plain": [
       "[59, 71, 20]"
      ]
     },
     "execution_count": 76,
     "metadata": {},
     "output_type": "execute_result"
    }
   ],
   "source": [
    "c"
   ]
  },
  {
   "cell_type": "code",
   "execution_count": 87,
   "metadata": {},
   "outputs": [
    {
     "data": {
      "text/plain": [
       "(array([1., 0., 0., 0., 0., 0., 0., 1., 0., 1.]),\n",
       " array([20. , 25.1, 30.2, 35.3, 40.4, 45.5, 50.6, 55.7, 60.8, 65.9, 71. ]),\n",
       " <a list of 10 Patch objects>)"
      ]
     },
     "execution_count": 87,
     "metadata": {},
     "output_type": "execute_result"
    },
    {
     "data": {
      "image/png": "[encoded data removed]",
      "text/plain": [
       "<Figure size 432x288 with 2 Axes>"
      ]
     },
     "metadata": {
      "needs_background": "light"
     },
     "output_type": "display_data"
    }
   ],
   "source": [
    "fig, axs = plt.subplots(1, 2, tight_layout=True)\n",
    "axs[0].hist(list(attr1))\n",
    "axs[1].hist(c)"
   ]
  },
  {
   "cell_type": "markdown",
   "metadata": {},
   "source": [
    "# Equal Depth"
   ]
  },
  {
   "cell_type": "code",
   "execution_count": 11,
   "metadata": {},
   "outputs": [],
   "source": [
    "discval1 = []"
   ]
  },
  {
   "cell_type": "code",
   "execution_count": 15,
   "metadata": {},
   "outputs": [],
   "source": [
    "def descr_by_eq_depth():\n",
    "    for i in range(1,bin_size+1):\n",
    "        a = []\n",
    "        a = attr1[int((data_size/bin_size)*(i-1)):int(data_size/bin_size + (data_size/bin_size)*(i-1))]\n",
    "        discval1.append(a)"
   ]
  },
  {
   "cell_type": "code",
   "execution_count": 16,
   "metadata": {},
   "outputs": [],
   "source": [
    "descr_by_eq_depth()"
   ]
  }
 ],
 "metadata": {
  "colab": {
   "name": "discretization.ipynb",
   "provenance": [],
   "version": "0.3.2"
  },
  "kernelspec": {
   "display_name": "Python 3",
   "language": "python",
   "name": "python3"
  },
  "language_info": {
   "codemirror_mode": {
    "name": "ipython",
    "version": 3
   },
   "file_extension": ".py",
   "mimetype": "text/x-python",
   "name": "python",
   "nbconvert_exporter": "python",
   "pygments_lexer": "ipython3",
   "version": "3.7.1"
  }
 },
 "nbformat": 4,
 "nbformat_minor": 1
}
