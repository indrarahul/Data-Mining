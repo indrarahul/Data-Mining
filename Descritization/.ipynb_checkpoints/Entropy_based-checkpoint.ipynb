{
 "cells": [
  {
   "cell_type": "code",
   "execution_count": 19,
   "metadata": {},
   "outputs": [],
   "source": [
    "import numpy as np\n",
    "import matplotlib.pyplot as plt\n",
    "import pandas as pd"
   ]
  },
  {
   "cell_type": "code",
   "execution_count": 71,
   "metadata": {},
   "outputs": [],
   "source": [
    "data = pd.read_csv('../Clustering/iris.csv')\n",
    "data1 = np.array(data)\n",
    "data2 = np.array(data)\n",
    "data3 = np.array(data)\n",
    "data4 = np.array(data)\n",
    "data = data.iloc[:, [0,1,2,3]].values\n",
    "data = np.array(data)"
   ]
  },
  {
   "cell_type": "code",
   "execution_count": 72,
   "metadata": {},
   "outputs": [],
   "source": [
    "data1 = data1[data1[:,0].argsort()]\n",
    "data2 = data2[data2[:,0].argsort()]\n",
    "data3 = data3[data3[:,0].argsort()]\n",
    "data4 = data4[data4[:,0].argsort()]"
   ]
  },
  {
   "cell_type": "code",
   "execution_count": null,
   "metadata": {},
   "outputs": [],
   "source": [
    "def discrete():\n",
    "    for j in range(4):\n",
    "        mini=0\n",
    "    "
   ]
  }
 ],
 "metadata": {
  "kernelspec": {
   "display_name": "Python 3",
   "language": "python",
   "name": "python3"
  },
  "language_info": {
   "codemirror_mode": {
    "name": "ipython",
    "version": 3
   },
   "file_extension": ".py",
   "mimetype": "text/x-python",
   "name": "python",
   "nbconvert_exporter": "python",
   "pygments_lexer": "ipython3",
   "version": "3.7.1"
  }
 },
 "nbformat": 4,
 "nbformat_minor": 2
}
