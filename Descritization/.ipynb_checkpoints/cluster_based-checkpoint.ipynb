{
 "cells": [
  {
   "cell_type": "code",
   "execution_count": 1,
   "metadata": {},
   "outputs": [],
   "source": [
    "import numpy as np\n",
    "import matplotlib.pyplot as plt\n",
    "import pandas as pd\n",
    "import math\n",
    "from sklearn.cluster import KMeans\n",
    "from clust import *"
   ]
  },
  {
   "cell_type": "code",
   "execution_count": 2,
   "metadata": {},
   "outputs": [],
   "source": [
    "data = pd.read_csv('../Clustering/iris.csv')\n",
    "data = data.iloc[:, [0,1,2,3]].values\n",
    "data = np.array(data)\n",
    "data_size = 150"
   ]
  },
  {
   "cell_type": "markdown",
   "metadata": {},
   "source": [
    "# K-Means Algorithm"
   ]
  },
  {
   "cell_type": "code",
   "execution_count": 7,
   "metadata": {},
   "outputs": [],
   "source": [
    "kmeans = KMeans(n_clusters=3)\n",
    "kmeans.fit(data)\n",
    "c = kmeans.cluster_centers_"
   ]
  },
  {
   "cell_type": "code",
   "execution_count": 26,
   "metadata": {},
   "outputs": [],
   "source": [
    "discval = [[],[],[]]"
   ]
  },
  {
   "cell_type": "code",
   "execution_count": 27,
   "metadata": {},
   "outputs": [],
   "source": [
    "def disc():\n",
    "    for i in range(data_size):\n",
    "        discval[kmeans.labels_[i]].append(data[i,0])\n",
    "        "
   ]
  },
  {
   "cell_type": "code",
   "execution_count": 28,
   "metadata": {},
   "outputs": [],
   "source": [
    "disc()"
   ]
  },
  {
   "cell_type": "markdown",
   "metadata": {},
   "source": [
    "# My Cluster Algorithm"
   ]
  },
  {
   "cell_type": "code",
   "execution_count": 3,
   "metadata": {},
   "outputs": [],
   "source": [
    "data_again = data"
   ]
  },
  {
   "cell_type": "code",
   "execution_count": 4,
   "metadata": {},
   "outputs": [],
   "source": [
    "for i in range(4):\n",
    "    normalize(data_again[:,i])"
   ]
  },
  {
   "cell_type": "code",
   "execution_count": 5,
   "metadata": {},
   "outputs": [],
   "source": [
    "disim = np.zeros((150,150))\n",
    "for i in range(150):\n",
    "    for j in range(150):\n",
    "        disim[i][j] = eucl_dist(data_again[i],data_again[j])"
   ]
  },
  {
   "cell_type": "code",
   "execution_count": 6,
   "metadata": {},
   "outputs": [],
   "source": [
    "cls = []\n",
    "for i in range(150):\n",
    "    avrg= np.average(disim[i])\n",
    "    d = []\n",
    "    for j in range(150):\n",
    "        if(disim[i][j]< avrg):\n",
    "            d.append(j)\n",
    "    cls.append(d)"
   ]
  },
  {
   "cell_type": "code",
   "execution_count": 7,
   "metadata": {},
   "outputs": [
    {
     "name": "stdout",
     "output_type": "stream",
     "text": [
      "Number of Clusters - 4 "
     ]
    }
   ],
   "source": [
    "while(len(cls)!=4):\n",
    "    count=0\n",
    "    cls = sixthstep(cls)\n",
    "    sima = seventh(cls)\n",
    "    i,j = eighth(sima)\n",
    "    new = list(set(cls[i]).union(set(cls[j])))\n",
    "    cls[i] = []\n",
    "    cls[j] = []\n",
    "    cls.append(new)\n",
    "    l = len(cls)\n",
    "    new_cls = []\n",
    "    for i in range(l):\n",
    "        if(len(cls[i])!=0):\n",
    "            new_cls.append(cls[i])\n",
    "    cls = new_cls\n",
    "    k  = len(cls)\n",
    "print('Number of Clusters -',len(cls),end=\" \")"
   ]
  },
  {
   "cell_type": "code",
   "execution_count": 8,
   "metadata": {},
   "outputs": [],
   "source": [
    "pp = np.array([[float(2) for i in range(k)] for h in range(150)])\n",
    "centroid = []\n",
    "wow = []\n",
    "old_wow=0\n",
    "mean= []\n",
    "for i in range(k):\n",
    "    mean = []\n",
    "    wow = []\n",
    "    for l in range(k):\n",
    "        for j in range(len(cls[i])):\n",
    "            wow.append(data_again[cls[i][j]][l])\n",
    "        mean.append(np.mean(wow))\n",
    "    centroid.append(mean)"
   ]
  },
  {
   "cell_type": "code",
   "execution_count": 9,
   "metadata": {},
   "outputs": [],
   "source": [
    "dekh = []\n",
    "for i in range(150):\n",
    "    dkh = []\n",
    "    for j in range(k):\n",
    "        if i in cls[j]:\n",
    "            dkh.append(j)\n",
    "    nikl(i,dkh,data_again,centroid,pp)\n",
    "    dekh.append(dkh)        "
   ]
  },
  {
   "cell_type": "code",
   "execution_count": 10,
   "metadata": {},
   "outputs": [],
   "source": [
    "cls2 = [[],[],[],[]]\n",
    "mini = 4\n",
    "ind = 0\n",
    "for i in range(150):\n",
    "    cls2[pp[i].argmin()].append(i)"
   ]
  },
  {
   "cell_type": "code",
   "execution_count": 13,
   "metadata": {},
   "outputs": [],
   "source": [
    "discval1 = [[],[],[]]"
   ]
  },
  {
   "cell_type": "code",
   "execution_count": null,
   "metadata": {},
   "outputs": [],
   "source": [
    "def disc():\n",
    "    for i in range(data_size):\n",
    "        discval[kmeans.labels_[i]].append(data[i,0])"
   ]
  }
 ],
 "metadata": {
  "kernelspec": {
   "display_name": "Python 3",
   "language": "python",
   "name": "python3"
  },
  "language_info": {
   "codemirror_mode": {
    "name": "ipython",
    "version": 3
   },
   "file_extension": ".py",
   "mimetype": "text/x-python",
   "name": "python",
   "nbconvert_exporter": "python",
   "pygments_lexer": "ipython3",
   "version": "3.7.1"
  }
 },
 "nbformat": 4,
 "nbformat_minor": 2
}
