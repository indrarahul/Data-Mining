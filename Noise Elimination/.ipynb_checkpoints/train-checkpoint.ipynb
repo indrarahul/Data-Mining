{
 "cells": [
  {
   "cell_type": "code",
   "execution_count": 88,
   "metadata": {},
   "outputs": [],
   "source": [
    "import numpy as np\n",
    "import matplotlib.pyplot as plt\n",
    "import pandas as pd\n",
    "import math\n",
    "from sklearn import linear_model"
   ]
  },
  {
   "cell_type": "code",
   "execution_count": 89,
   "metadata": {},
   "outputs": [],
   "source": [
    "data = pd.read_csv('../Clustering/iris.csv')"
   ]
  },
  {
   "cell_type": "code",
   "execution_count": 90,
   "metadata": {},
   "outputs": [],
   "source": [
    "data = data.iloc[:,[0,1,2,3]].values\n",
    "k = len(data[0])\n",
    "l = len(data)"
   ]
  },
  {
   "cell_type": "code",
   "execution_count": 113,
   "metadata": {},
   "outputs": [],
   "source": [
    "reg = linear_model.LinearRegression()\n",
    "X = data[:,0,np.newaxis]\n",
    "y = np.array([[1]])\n",
    "y = np.dot(X,y)"
   ]
  },
  {
   "cell_type": "code",
   "execution_count": 126,
   "metadata": {},
   "outputs": [
    {
     "data": {
      "text/plain": [
       "LinearRegression(copy_X=True, fit_intercept=True, n_jobs=None,\n",
       "         normalize=False)"
      ]
     },
     "execution_count": 126,
     "metadata": {},
     "output_type": "execute_result"
    }
   ],
   "source": [
    "reg.fit(data[:120,0,np.newaxis],data[:120,1,np.newaxis])"
   ]
  },
  {
   "cell_type": "code",
   "execution_count": 127,
   "metadata": {},
   "outputs": [
    {
     "name": "stdout",
     "output_type": "stream",
     "text": [
      "[[-0.09051723]] [3.57664862]\n"
     ]
    }
   ],
   "source": [
    "print (reg.coef_, reg.intercept_)"
   ]
  },
  {
   "cell_type": "code",
   "execution_count": 138,
   "metadata": {},
   "outputs": [
    {
     "name": "stdout",
     "output_type": "stream",
     "text": [
      "Original :  3.2\n",
      "LR Fit Value : 2.9520797603934974\n",
      "Original :  2.8\n",
      "LR Fit Value : 3.069752154372217\n",
      "Original :  2.8\n",
      "LR Fit Value : 2.8796659794835158\n",
      "Original :  2.7\n",
      "LR Fit Value : 3.0063900960759833\n",
      "Original :  3.3\n",
      "LR Fit Value : 2.9701832056209927\n",
      "Original :  3.2\n",
      "LR Fit Value : 2.9249245925522542\n",
      "Original :  2.8\n",
      "LR Fit Value : 3.015441818689731\n",
      "Original :  3.0\n",
      "LR Fit Value : 3.0244935413034786\n",
      "Original :  2.8\n",
      "LR Fit Value : 2.9973383734622354\n",
      "Original :  3.0\n",
      "LR Fit Value : 2.9249245925522542\n",
      "Original :  2.8\n",
      "LR Fit Value : 2.906821147324759\n",
      "Original :  3.8\n",
      "LR Fit Value : 2.8615625342560205\n",
      "Original :  2.8\n",
      "LR Fit Value : 2.9973383734622354\n",
      "Original :  2.8\n",
      "LR Fit Value : 3.0063900960759833\n",
      "Original :  2.6\n",
      "LR Fit Value : 3.0244935413034786\n",
      "Original :  3.0\n",
      "LR Fit Value : 2.8796659794835158\n",
      "Original :  3.4\n",
      "LR Fit Value : 3.0063900960759833\n",
      "Original :  3.1\n",
      "LR Fit Value : 2.9973383734622354\n",
      "Original :  3.0\n",
      "LR Fit Value : 3.0335452639172265\n",
      "Original :  3.1\n",
      "LR Fit Value : 2.9520797603934974\n",
      "Original :  3.1\n",
      "LR Fit Value : 2.9701832056209927\n",
      "Original :  3.1\n",
      "LR Fit Value : 2.9520797603934974\n",
      "Original :  2.7\n",
      "LR Fit Value : 3.0516487091447217\n",
      "Original :  3.2\n",
      "LR Fit Value : 2.961131483007245\n",
      "Original :  3.3\n",
      "LR Fit Value : 2.9701832056209927\n",
      "Original :  3.0\n",
      "LR Fit Value : 2.9701832056209927\n",
      "Original :  2.5\n",
      "LR Fit Value : 3.0063900960759833\n",
      "Original :  3.0\n",
      "LR Fit Value : 2.988286650848488\n",
      "Original :  3.4\n",
      "LR Fit Value : 3.015441818689731\n",
      "Original :  3.0\n",
      "LR Fit Value : 3.042596986530974\n"
     ]
    }
   ],
   "source": [
    "for i in range(120,150):\n",
    "    print(\"Original : \", data[i][1] ,end=\" \")\n",
    "    print(\"LR Fit Value :\", reg.coef_[0][0]*data[i][0] + reg.intercept_[0])"
   ]
  },
  {
   "cell_type": "code",
   "execution_count": 137,
   "metadata": {},
   "outputs": [
    {
     "data": {
      "text/plain": [
       "2.9520797603934974"
      ]
     },
     "execution_count": 137,
     "metadata": {},
     "output_type": "execute_result"
    }
   ],
   "source": [
    "reg.coef_[0][0]*data[120][0] + reg.intercept_[0]"
   ]
  },
  {
   "cell_type": "code",
   "execution_count": null,
   "metadata": {},
   "outputs": [],
   "source": []
  }
 ],
 "metadata": {
  "kernelspec": {
   "display_name": "Python 3",
   "language": "python",
   "name": "python3"
  },
  "language_info": {
   "codemirror_mode": {
    "name": "ipython",
    "version": 3
   },
   "file_extension": ".py",
   "mimetype": "text/x-python",
   "name": "python",
   "nbconvert_exporter": "python",
   "pygments_lexer": "ipython3",
   "version": "3.7.1"
  }
 },
 "nbformat": 4,
 "nbformat_minor": 2
}
