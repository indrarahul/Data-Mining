{
 "cells": [
  {
   "cell_type": "code",
   "execution_count": 1,
   "metadata": {},
   "outputs": [],
   "source": [
    "import numpy as np\n",
    "import matplotlib.pyplot as plt\n",
    "import pandas as pd\n",
    "import math\n",
    "from sklearn import linear_model"
   ]
  },
  {
   "cell_type": "code",
   "execution_count": 2,
   "metadata": {},
   "outputs": [],
   "source": [
    "data = pd.read_csv('../Clustering/iris.csv')"
   ]
  },
  {
   "cell_type": "code",
   "execution_count": 3,
   "metadata": {},
   "outputs": [],
   "source": [
    "data = data.iloc[:,[0,1,2,3]].values\n",
    "k = len(data[0])\n",
    "l = len(data)"
   ]
  },
  {
   "cell_type": "code",
   "execution_count": 4,
   "metadata": {
    "scrolled": true
   },
   "outputs": [
    {
     "name": "stdout",
     "output_type": "stream",
     "text": [
      "For 1 Col and 2 col [[-0.24830249]] [6.41354712]\n",
      "\n",
      "\n",
      "Original :  6.9\t\tLR Fit Value : 5.62\tError :  1.28\n",
      "Original :  5.6\t\tLR Fit Value : 5.72\tError :  -0.12\n",
      "Original :  7.7\t\tLR Fit Value : 5.72\tError :  1.98\n",
      "Original :  6.3\t\tLR Fit Value : 5.74\tError :  0.56\n",
      "Original :  6.7\t\tLR Fit Value : 5.59\tError :  1.11\n",
      "Original :  7.2\t\tLR Fit Value : 5.62\tError :  1.58\n",
      "Original :  6.2\t\tLR Fit Value : 5.72\tError :  0.48\n",
      "Original :  6.1\t\tLR Fit Value : 5.67\tError :  0.43\n",
      "Original :  6.4\t\tLR Fit Value : 5.72\tError :  0.68\n",
      "Original :  7.2\t\tLR Fit Value : 5.67\tError :  1.53\n",
      "Original :  7.4\t\tLR Fit Value : 5.72\tError :  1.68\n",
      "Original :  7.9\t\tLR Fit Value : 5.47\tError :  2.43\n",
      "Original :  6.4\t\tLR Fit Value : 5.72\tError :  0.68\n",
      "Original :  6.3\t\tLR Fit Value : 5.72\tError :  0.58\n",
      "Original :  6.1\t\tLR Fit Value : 5.77\tError :  0.33\n",
      "Original :  7.7\t\tLR Fit Value : 5.67\tError :  2.03\n",
      "Original :  6.3\t\tLR Fit Value : 5.57\tError :  0.73\n",
      "Original :  6.4\t\tLR Fit Value : 5.64\tError :  0.76\n",
      "Original :  6.0\t\tLR Fit Value : 5.67\tError :  0.33\n",
      "Original :  6.9\t\tLR Fit Value : 5.64\tError :  1.26\n",
      "Original :  6.7\t\tLR Fit Value : 5.64\tError :  1.06\n",
      "Original :  6.9\t\tLR Fit Value : 5.64\tError :  1.26\n",
      "Original :  5.8\t\tLR Fit Value : 5.74\tError :  0.06\n",
      "Original :  6.8\t\tLR Fit Value : 5.62\tError :  1.18\n",
      "Original :  6.7\t\tLR Fit Value : 5.59\tError :  1.11\n",
      "Original :  6.7\t\tLR Fit Value : 5.67\tError :  1.03\n",
      "Original :  6.3\t\tLR Fit Value : 5.79\tError :  0.51\n",
      "Original :  6.5\t\tLR Fit Value : 5.67\tError :  0.83\n",
      "Original :  6.2\t\tLR Fit Value : 5.57\tError :  0.63\n",
      "Original :  5.9\t\tLR Fit Value : 5.67\tError :  0.23\n",
      "For 1 Col and 3 col [[0.3868931]] [4.36511323]\n",
      "\n",
      "\n",
      "Original :  6.9\t\tLR Fit Value : 6.57\tError :  0.33\n",
      "Original :  5.6\t\tLR Fit Value : 6.26\tError :  -0.66\n",
      "Original :  7.7\t\tLR Fit Value : 6.96\tError :  0.74\n",
      "Original :  6.3\t\tLR Fit Value : 6.26\tError :  0.04\n",
      "Original :  6.7\t\tLR Fit Value : 6.57\tError :  0.13\n",
      "Original :  7.2\t\tLR Fit Value : 6.69\tError :  0.51\n",
      "Original :  6.2\t\tLR Fit Value : 6.22\tError :  -0.02\n",
      "Original :  6.1\t\tLR Fit Value : 6.26\tError :  -0.16\n",
      "Original :  6.4\t\tLR Fit Value : 6.53\tError :  -0.13\n",
      "Original :  7.2\t\tLR Fit Value : 6.61\tError :  0.59\n",
      "Original :  7.4\t\tLR Fit Value : 6.73\tError :  0.67\n",
      "Original :  7.9\t\tLR Fit Value : 6.84\tError :  1.06\n",
      "Original :  6.4\t\tLR Fit Value : 6.53\tError :  -0.13\n",
      "Original :  6.3\t\tLR Fit Value : 6.34\tError :  -0.04\n",
      "Original :  6.1\t\tLR Fit Value : 6.53\tError :  -0.43\n",
      "Original :  7.7\t\tLR Fit Value : 6.73\tError :  0.97\n",
      "Original :  6.3\t\tLR Fit Value : 6.53\tError :  -0.23\n",
      "Original :  6.4\t\tLR Fit Value : 6.49\tError :  -0.09\n",
      "Original :  6.0\t\tLR Fit Value : 6.22\tError :  -0.22\n",
      "Original :  6.9\t\tLR Fit Value : 6.45\tError :  0.45\n",
      "Original :  6.7\t\tLR Fit Value : 6.53\tError :  0.17\n",
      "Original :  6.9\t\tLR Fit Value : 6.34\tError :  0.56\n",
      "Original :  5.8\t\tLR Fit Value : 6.34\tError :  -0.54\n",
      "Original :  6.8\t\tLR Fit Value : 6.65\tError :  0.15\n",
      "Original :  6.7\t\tLR Fit Value : 6.57\tError :  0.13\n",
      "Original :  6.7\t\tLR Fit Value : 6.38\tError :  0.32\n",
      "Original :  6.3\t\tLR Fit Value : 6.30\tError :  0.00\n",
      "Original :  6.5\t\tLR Fit Value : 6.38\tError :  0.12\n",
      "Original :  6.2\t\tLR Fit Value : 6.45\tError :  -0.25\n",
      "Original :  5.9\t\tLR Fit Value : 6.34\tError :  -0.44\n",
      "For 1 Col and 4 col [[0.88219562]] [4.77471536]\n",
      "\n",
      "\n",
      "Original :  6.9\t\tLR Fit Value : 6.80\tError :  0.10\n",
      "Original :  5.6\t\tLR Fit Value : 6.54\tError :  -0.94\n",
      "Original :  7.7\t\tLR Fit Value : 6.54\tError :  1.16\n",
      "Original :  6.3\t\tLR Fit Value : 6.36\tError :  -0.06\n",
      "Original :  6.7\t\tLR Fit Value : 6.63\tError :  0.07\n",
      "Original :  7.2\t\tLR Fit Value : 6.36\tError :  0.84\n",
      "Original :  6.2\t\tLR Fit Value : 6.36\tError :  -0.16\n",
      "Original :  6.1\t\tLR Fit Value : 6.36\tError :  -0.26\n",
      "Original :  6.4\t\tLR Fit Value : 6.63\tError :  -0.23\n",
      "Original :  7.2\t\tLR Fit Value : 6.19\tError :  1.01\n",
      "Original :  7.4\t\tLR Fit Value : 6.45\tError :  0.95\n",
      "Original :  7.9\t\tLR Fit Value : 6.54\tError :  1.36\n",
      "Original :  6.4\t\tLR Fit Value : 6.72\tError :  -0.32\n",
      "Original :  6.3\t\tLR Fit Value : 6.10\tError :  0.20\n",
      "Original :  6.1\t\tLR Fit Value : 6.01\tError :  0.09\n",
      "Original :  7.7\t\tLR Fit Value : 6.80\tError :  0.90\n",
      "Original :  6.3\t\tLR Fit Value : 6.89\tError :  -0.59\n",
      "Original :  6.4\t\tLR Fit Value : 6.36\tError :  0.04\n",
      "Original :  6.0\t\tLR Fit Value : 6.36\tError :  -0.36\n",
      "Original :  6.9\t\tLR Fit Value : 6.63\tError :  0.27\n",
      "Original :  6.7\t\tLR Fit Value : 6.89\tError :  -0.19\n",
      "Original :  6.9\t\tLR Fit Value : 6.80\tError :  0.10\n",
      "Original :  5.8\t\tLR Fit Value : 6.45\tError :  -0.65\n",
      "Original :  6.8\t\tLR Fit Value : 6.80\tError :  -0.00\n",
      "Original :  6.7\t\tLR Fit Value : 6.98\tError :  -0.28\n",
      "Original :  6.7\t\tLR Fit Value : 6.80\tError :  -0.10\n",
      "Original :  6.3\t\tLR Fit Value : 6.45\tError :  -0.15\n",
      "Original :  6.5\t\tLR Fit Value : 6.54\tError :  -0.04\n",
      "Original :  6.2\t\tLR Fit Value : 6.80\tError :  -0.60\n",
      "Original :  5.9\t\tLR Fit Value : 6.36\tError :  -0.46\n"
     ]
    }
   ],
   "source": [
    "reg = linear_model.LinearRegression()\n",
    "errr = []\n",
    "f = []\n",
    "for j in range(1,4):\n",
    "    reg.fit(data[:120,j,np.newaxis],data[:120,0,np.newaxis])\n",
    "    print (\"For 1 Col and {} col\".format(j+1), reg.coef_, reg.intercept_)\n",
    "    print (\"\\n\")\n",
    "    for i in range(120,150):\n",
    "        err = data[i][0] - (reg.coef_[0][0]*data[i][j] + reg.intercept_[0])\n",
    "        print(\"Original : \", (data[i][0]) ,end=\"\\t\\t\")\n",
    "        print(\"LR Fit Value : {0:.2f}\".format(reg.coef_[0][0]*data[i][j] + reg.intercept_[0]),end=\"\\t\")\n",
    "        print(\"Error :  {0:.2f}\".format(err))\n",
    "        f.append(abs(err))\n",
    "    errr.append(f)\n",
    "    f = []"
   ]
  },
  {
   "cell_type": "markdown",
   "metadata": {},
   "source": [
    "# Multiple Regression"
   ]
  },
  {
   "cell_type": "code",
   "execution_count": 5,
   "metadata": {},
   "outputs": [
    {
     "name": "stdout",
     "output_type": "stream",
     "text": [
      "[[ 0.65157089  0.76814019 -0.72645297]] [1.82226943]\n",
      "Original :  6.9\t\tLR Fit Value : 6.61\tError :  0.29\n",
      "Original :  5.6\t\tLR Fit Value : 5.96\tError :  -0.36\n",
      "Original :  7.7\t\tLR Fit Value : 7.34\tError :  0.36\n",
      "Original :  6.3\t\tLR Fit Value : 6.04\tError :  0.26\n",
      "Original :  6.7\t\tLR Fit Value : 6.83\tError :  -0.13\n",
      "Original :  7.2\t\tLR Fit Value : 7.21\tError :  -0.01\n",
      "Original :  6.2\t\tLR Fit Value : 6.03\tError :  0.17\n",
      "Original :  6.1\t\tLR Fit Value : 6.23\tError :  -0.13\n",
      "Original :  6.4\t\tLR Fit Value : 6.42\tError :  -0.02\n",
      "Original :  7.2\t\tLR Fit Value : 7.07\tError :  0.13\n",
      "Original :  7.4\t\tLR Fit Value : 6.95\tError :  0.45\n",
      "Original :  7.9\t\tLR Fit Value : 7.76\tError :  0.14\n",
      "Original :  6.4\t\tLR Fit Value : 6.35\tError :  0.05\n",
      "Original :  6.3\t\tLR Fit Value : 6.47\tError :  -0.17\n",
      "Original :  6.1\t\tLR Fit Value : 6.80\tError :  -0.70\n",
      "Original :  7.7\t\tLR Fit Value : 6.79\tError :  0.91\n",
      "Original :  6.3\t\tLR Fit Value : 6.60\tError :  -0.30\n",
      "Original :  6.4\t\tLR Fit Value : 6.76\tError :  -0.36\n",
      "Original :  6.0\t\tLR Fit Value : 6.16\tError :  -0.16\n",
      "Original :  6.9\t\tLR Fit Value : 6.46\tError :  0.44\n",
      "Original :  6.7\t\tLR Fit Value : 6.40\tError :  0.30\n",
      "Original :  6.9\t\tLR Fit Value : 6.09\tError :  0.81\n",
      "Original :  5.8\t\tLR Fit Value : 6.12\tError :  -0.32\n",
      "Original :  6.8\t\tLR Fit Value : 6.77\tError :  0.03\n",
      "Original :  6.7\t\tLR Fit Value : 6.53\tError :  0.17\n",
      "Original :  6.7\t\tLR Fit Value : 6.10\tError :  0.60\n",
      "Original :  6.3\t\tLR Fit Value : 5.91\tError :  0.39\n",
      "Original :  6.5\t\tLR Fit Value : 6.32\tError :  0.18\n",
      "Original :  6.2\t\tLR Fit Value : 6.51\tError :  -0.31\n",
      "Original :  5.9\t\tLR Fit Value : 6.39\tError :  -0.49\n"
     ]
    }
   ],
   "source": [
    "reg.fit(data[:120,1:],data[:120,0,np.newaxis])\n",
    "print (reg.coef_, reg.intercept_)\n",
    "for i in range(120,150):\n",
    "    err=(reg.coef_[0][0]*data[i][1] +reg.coef_[0][1]*data[i][2]+reg.coef_[0][2]*data[i][3]+ reg.intercept_[0])\n",
    "    print(\"Original : \", (data[i][0]) ,end=\"\\t\\t\")\n",
    "    print(\"LR Fit Value : {0:.2f}\".format(err),end=\"\\t\")\n",
    "    print(\"Error :  {0:.2f}\".format(data[i][0]-err))\n",
    "    f.append(abs(data[i][0]-err))\n",
    "errr.append(f)"
   ]
  },
  {
   "cell_type": "code",
   "execution_count": 6,
   "metadata": {},
   "outputs": [
    {
     "name": "stdout",
     "output_type": "stream",
     "text": [
      "[1]\t Less Erroneous : \t LR with col 4\n",
      "[2]\t Less Erroneous : \t LR with col 2\n",
      "[3]\t Less Erroneous : \t MLR with 2&3&4 col\n",
      "[4]\t Less Erroneous : \t LR with col 3\n",
      "[5]\t Less Erroneous : \t LR with col 4\n",
      "[6]\t Less Erroneous : \t MLR with 2&3&4 col\n",
      "[7]\t Less Erroneous : \t LR with col 3\n",
      "[8]\t Less Erroneous : \t MLR with 2&3&4 col\n",
      "[9]\t Less Erroneous : \t MLR with 2&3&4 col\n",
      "[10]\t Less Erroneous : \t MLR with 2&3&4 col\n",
      "[11]\t Less Erroneous : \t MLR with 2&3&4 col\n",
      "[12]\t Less Erroneous : \t MLR with 2&3&4 col\n",
      "[13]\t Less Erroneous : \t MLR with 2&3&4 col\n",
      "[14]\t Less Erroneous : \t LR with col 3\n",
      "[15]\t Less Erroneous : \t LR with col 4\n",
      "[16]\t Less Erroneous : \t LR with col 4\n",
      "[17]\t Less Erroneous : \t LR with col 3\n",
      "[18]\t Less Erroneous : \t LR with col 4\n",
      "[19]\t Less Erroneous : \t MLR with 2&3&4 col\n",
      "[20]\t Less Erroneous : \t LR with col 4\n",
      "[21]\t Less Erroneous : \t LR with col 3\n",
      "[22]\t Less Erroneous : \t LR with col 4\n",
      "[23]\t Less Erroneous : \t LR with col 2\n",
      "[24]\t Less Erroneous : \t LR with col 4\n",
      "[25]\t Less Erroneous : \t LR with col 3\n",
      "[26]\t Less Erroneous : \t LR with col 4\n",
      "[27]\t Less Erroneous : \t LR with col 3\n",
      "[28]\t Less Erroneous : \t LR with col 4\n",
      "[29]\t Less Erroneous : \t LR with col 3\n",
      "[30]\t Less Erroneous : \t LR with col 2\n",
      "\n",
      "Winner is :  LR with col 4\n"
     ]
    }
   ],
   "source": [
    "Val = ['LR with col 2','LR with col 3','LR with col 4','MLR with 2&3&4 col']\n",
    "Val1 = [0,0,0,0]\n",
    "errr= np.array(errr)\n",
    "for i in range(30):\n",
    "    print('[{}]\\t Less Erroneous : \\t'.format(i+1),Val[errr[:,i].argmin()])\n",
    "    Val1[errr[:,i].argmin()] += 1\n",
    "Val1 = np.array(Val1)\n",
    "print(\"\\nWinner is : \", Val[Val1.argmax()])"
   ]
  }
 ],
 "metadata": {
  "kernelspec": {
   "display_name": "Python 3",
   "language": "python",
   "name": "python3"
  },
  "language_info": {
   "codemirror_mode": {
    "name": "ipython",
    "version": 3
   },
   "file_extension": ".py",
   "mimetype": "text/x-python",
   "name": "python",
   "nbconvert_exporter": "python",
   "pygments_lexer": "ipython3",
   "version": "3.7.1"
  }
 },
 "nbformat": 4,
 "nbformat_minor": 2
}
