{
 "cells": [
  {
   "cell_type": "markdown",
   "metadata": {},
   "source": [
    "# Clustering using IRIS Dataset "
   ]
  },
  {
   "cell_type": "code",
   "execution_count": 1,
   "metadata": {},
   "outputs": [],
   "source": [
    "import numpy as np\n",
    "import matplotlib.pyplot as plt\n",
    "import pandas as pd\n",
    "import math"
   ]
  },
  {
   "cell_type": "code",
   "execution_count": 2,
   "metadata": {},
   "outputs": [],
   "source": [
    "data = pd.read_csv(\"iris.csv\")\n",
    "data = data.iloc[:, [0,1,2,3]].values"
   ]
  },
  {
   "cell_type": "markdown",
   "metadata": {},
   "source": [
    "#### Normalized Using Min-Max method\n",
    "***\n",
    "## $ \\frac{x_{new} - x_{min_{new}}}{x_{min_{new}}-x_{max_{new}}} = \\frac{x_{old} - x_{min_{old}}}{x_{min_{old}}-x_{max_{old}}} $\n",
    "***"
   ]
  },
  {
   "cell_type": "code",
   "execution_count": 3,
   "metadata": {},
   "outputs": [],
   "source": [
    "def normalize(c):\n",
    "    maxi = c.max()\n",
    "    mini = c.min()\n",
    "    for i in range(len(c)):\n",
    "        c[i] = (c[i]-mini)/float(maxi-mini)"
   ]
  },
  {
   "cell_type": "markdown",
   "metadata": {},
   "source": [
    "#### Euclidean Distance\n",
    "***\n",
    "\n",
    "### $d(x,y) {=} \\left(\\sum_{i=1}^n (x_i^2-y_i^2)\\right)^2$\n",
    "\n",
    "\n",
    "***"
   ]
  },
  {
   "cell_type": "code",
   "execution_count": 4,
   "metadata": {},
   "outputs": [],
   "source": [
    "def eucl_dist(a,b):\n",
    "    dista = 0\n",
    "    for i in range(4):\n",
    "        dista += (a[i]-b[i])**2\n",
    "    return math.sqrt(dista)"
   ]
  },
  {
   "cell_type": "code",
   "execution_count": 5,
   "metadata": {},
   "outputs": [],
   "source": [
    "#  NORMALIZING THE DATA\n",
    "for i in range(4):\n",
    "    normalize(data[:,i])"
   ]
  },
  {
   "cell_type": "code",
   "execution_count": 6,
   "metadata": {},
   "outputs": [],
   "source": [
    "# DISSIMALIRITY\n",
    "disim = np.zeros((150,150))\n",
    "for i in range(150):\n",
    "    for j in range(150):\n",
    "        disim[i][j] = eucl_dist(data[i],data[j])"
   ]
  },
  {
   "cell_type": "code",
   "execution_count": 7,
   "metadata": {},
   "outputs": [],
   "source": [
    "# CLUSTERING\n",
    "cls = []\n",
    "for i in range(150):\n",
    "    avrg= np.average(disim[i])\n",
    "    d = []\n",
    "    for j in range(150):\n",
    "        if(disim[i][j]< avrg):\n",
    "            d.append(j)\n",
    "    cls.append(d)"
   ]
  },
  {
   "cell_type": "code",
   "execution_count": 8,
   "metadata": {},
   "outputs": [],
   "source": [
    "# REMOVING SUBSETS\n",
    "def sixthstep(aa):\n",
    "    l = len(aa)\n",
    "    for i in range(l):\n",
    "        for j in range(l):\n",
    "            if(i!=j and set(aa[j]).issubset(set(aa[i]))):\n",
    "                aa[j]=[]\n",
    "    # REMOVING EMPTY SUBSETS\n",
    "    new_cls = []\n",
    "    for i in range(l):\n",
    "        if(len(aa[i])!=0):\n",
    "            new_cls.append(aa[i])\n",
    "    return new_cls"
   ]
  },
  {
   "cell_type": "markdown",
   "metadata": {},
   "source": [
    "Similarity Matrix using **Jaccard Similarity method**\n",
    "***\n",
    "\n",
    "  ### $ C_{ij} = \\frac{|C_i \\cap C_j|}{|C_i \\cup C_j|} $\n",
    "\n",
    "***\n"
   ]
  },
  {
   "cell_type": "code",
   "execution_count": 9,
   "metadata": {},
   "outputs": [],
   "source": [
    "def seventh(a):\n",
    "    length = len(a) #Dekhna hai idhar\n",
    "    sim = np.zeros((length,length))\n",
    "    for i in range(length):\n",
    "        for j in range(length):\n",
    "            sim[i][j] = len(set(a[i]).intersection(set(a[j]))) / float(len(set(a[i]).union(set(a[j]))))\n",
    "    return sim"
   ]
  },
  {
   "cell_type": "code",
   "execution_count": 10,
   "metadata": {},
   "outputs": [],
   "source": [
    "def eighth(sim):\n",
    "    l = len(sim)\n",
    "    k = 0\n",
    "    m = 0\n",
    "    maxi=-1\n",
    "    for i in range(l):\n",
    "        for j in range(l):\n",
    "            if(i!=j and maxi==-1):\n",
    "                maxi = sim[i][j] \n",
    "            elif(sim[i][j]>=maxi and i!=j):\n",
    "                k = i\n",
    "                m = j\n",
    "    return k,m"
   ]
  },
  {
   "cell_type": "code",
   "execution_count": 11,
   "metadata": {
    "scrolled": true
   },
   "outputs": [
    {
     "name": "stdout",
     "output_type": "stream",
     "text": [
      "Number of Clusters - 4 "
     ]
    }
   ],
   "source": [
    "while(len(cls)!=4):\n",
    "    count=0\n",
    "    cls = sixthstep(cls)\n",
    "    sima = seventh(cls)\n",
    "    i,j = eighth(sima)\n",
    "    new = list(set(cls[i]).union(set(cls[j])))\n",
    "    cls[i] = []\n",
    "    cls[j] = []\n",
    "    cls.append(new)\n",
    "    l = len(cls)\n",
    "    new_cls = []\n",
    "    for i in range(l):\n",
    "        if(len(cls[i])!=0):\n",
    "            new_cls.append(cls[i])\n",
    "    cls = new_cls\n",
    "    k  = len(cls)\n",
    "print('Number of Clusters -',len(cls),end=\" \")"
   ]
  },
  {
   "cell_type": "code",
   "execution_count": 12,
   "metadata": {},
   "outputs": [
    {
     "data": {
      "image/png": "[encoded data removed]",
      "text/plain": [
       "<Figure size 432x288 with 1 Axes>"
      ]
     },
     "metadata": {
      "needs_background": "light"
     },
     "output_type": "display_data"
    }
   ],
   "source": [
    "colors=[\"red\",\"blue\",\"green\",\"yellow\"]    \n",
    "for i in range(4):\n",
    "    for j in range(len(cls[i])):\n",
    "        plt.scatter(data[cls[i][j]][0]+data[cls[i][j]][1],data[cls[i][j]][2]+data[cls[i][j]][3],s = 10, c = colors[i], marker='o')"
   ]
  },
  {
   "cell_type": "markdown",
   "metadata": {},
   "source": [
    "# <font color=red>Extension - Elimination of Overlapped datapoints</font>\n"
   ]
  },
  {
   "cell_type": "code",
   "execution_count": 13,
   "metadata": {},
   "outputs": [],
   "source": [
    "def EEDD(a):\n",
    "#     return math.sqrt(a[0]**2 + a[1]**2+a[2]**2+a[3]**2)\n",
    "    return a[0]+a[1]+a[2]+a[3]"
   ]
  },
  {
   "cell_type": "code",
   "execution_count": 14,
   "metadata": {},
   "outputs": [],
   "source": [
    "pp = np.array([[float(2) for i in range(k)] for h in range(150)])\n",
    "centroid = []\n",
    "wow = []\n",
    "old_wow=0\n",
    "mean= []\n",
    "for i in range(k):\n",
    "    mean = []\n",
    "    wow = []\n",
    "    for l in range(k):\n",
    "        for j in range(len(cls[i])):\n",
    "            wow.append(data[cls[i][j]][l])\n",
    "        mean.append(np.median(wow))\n",
    "    centroid.append(mean)"
   ]
  },
  {
   "cell_type": "code",
   "execution_count": 15,
   "metadata": {},
   "outputs": [],
   "source": [
    "def nikl(i,a):\n",
    "    total_dist=0\n",
    "    dist = 0\n",
    "    for m in a:\n",
    "        total_dist += math.sqrt((data[i][0]-centroid[m][0])**2 + (data[i][1]-centroid[m][1])**2 + (data[i][2]-centroid[m][2])**2 + (data[i][3]-centroid[m][3])**2)  \n",
    "    for m in a:\n",
    "        dist = math.sqrt((data[i][0]-centroid[m][0])**2 + (data[i][1]-centroid[m][1])**2 + (data[i][2]-centroid[m][2])**2 + (data[i][3]-centroid[m][3])**2)  \n",
    "        pp[i][m] = (dist/total_dist)"
   ]
  },
  {
   "cell_type": "code",
   "execution_count": 16,
   "metadata": {},
   "outputs": [],
   "source": [
    "dekh = []\n",
    "for i in range(150):\n",
    "    dkh = []\n",
    "    for j in range(k):\n",
    "        if i in cls[j]:\n",
    "            dkh.append(j)\n",
    "    nikl(i,dkh)\n",
    "    dekh.append(dkh)        "
   ]
  },
  {
   "cell_type": "code",
   "execution_count": 17,
   "metadata": {},
   "outputs": [],
   "source": [
    "cls2 = [[],[],[],[]]\n",
    "mini = 4\n",
    "ind = 0\n",
    "for i in range(150):\n",
    "    cls2[pp[i].argmin()].append(i)"
   ]
  },
  {
   "cell_type": "code",
   "execution_count": 18,
   "metadata": {},
   "outputs": [
    {
     "data": {
      "image/png": "[encoded data removed]",
      "text/plain": [
       "<Figure size 432x288 with 1 Axes>"
      ]
     },
     "metadata": {
      "needs_background": "light"
     },
     "output_type": "display_data"
    }
   ],
   "source": [
    "colors=[\"red\",\"blue\",\"green\",\"yellow\"]    \n",
    "for i in range(4):\n",
    "    for j in range(len(cls2[i])):\n",
    "        plt.scatter(data[cls2[i][j]][0]+data[cls2[i][j]][1],data[cls2[i][j]][2]+data[cls2[i][j]][3],s =10, c = colors[i], marker='o')"
   ]
  }
 ],
 "metadata": {
  "kernelspec": {
   "display_name": "Python 3",
   "language": "python",
   "name": "python3"
  },
  "language_info": {
   "codemirror_mode": {
    "name": "ipython",
    "version": 3
   },
   "file_extension": ".py",
   "mimetype": "text/x-python",
   "name": "python",
   "nbconvert_exporter": "python",
   "pygments_lexer": "ipython3",
   "version": "3.7.1"
  }
 },
 "nbformat": 4,
 "nbformat_minor": 2
}
